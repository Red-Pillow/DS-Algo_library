{
 "cells": [
  {
   "cell_type": "code",
   "execution_count": null,
   "metadata": {},
   "outputs": [],
   "source": [
    "# Problem statement: Kth Smallest Element in a Sorted Matrix\n",
    "'''Given a sorted matrix of integers A of size N x M and an integer B.\n",
    "Each of the rows and columns of matrix A are sorted in ascending order,\n",
    "find the Bth smallest element in the matrix. \n",
    "\n",
    "Note: Return The Bth smallest element in the sorted order, not the Bth distinct element. \n",
    "\n",
    "Input Format\n",
    "The first argument given is the integer matrix A.\n",
    "The second argument given is an integer B.\n",
    "\n",
    "Output Format\n",
    "Return the Bth smallest element in the matrix.\n",
    "\n",
    "Constraints\n",
    "1 <= N, M <= 500\n",
    "1 <= A[i] <= 10^9\n",
    "1 <= B <= N*M\n",
    "\n",
    "For Example\n",
    "\n",
    "Input 1:\n",
    "    A = [   [9, 11, 15]\n",
    "            [10, 15, 17]    ]\n",
    "    B = 6\n",
    "\n",
    "Output 1:\n",
    "    17\n",
    "\n",
    "Input 2:\n",
    "    A = [    [5, 9, 11]\n",
    "            [9, 11, 13]\n",
    "            [10, 12, 15]\n",
    "            [13, 14, 16]\n",
    "            [16, 20, 21] ]\n",
    "    B = 12\n",
    "    \n",
    "Output 2:\n",
    "    16'''"
   ]
  },
  {
   "cell_type": "code",
   "execution_count": null,
   "metadata": {},
   "outputs": [],
   "source": [
    "def solve(self, A, B):\n",
    "    result=[]\n",
    "    for i in range(len(A)):\n",
    "        for j in range(len(A[0])):\n",
    "            result.append(A[i][j])\n",
    "    result=sorted(result)\n",
    "    return result[B-1]"
   ]
  }
 ],
 "metadata": {
  "kernelspec": {
   "display_name": "Python 3",
   "language": "python",
   "name": "python3"
  },
  "language_info": {
   "codemirror_mode": {
    "name": "ipython",
    "version": 3
   },
   "file_extension": ".py",
   "mimetype": "text/x-python",
   "name": "python",
   "nbconvert_exporter": "python",
   "pygments_lexer": "ipython3",
   "version": "3.7.4"
  }
 },
 "nbformat": 4,
 "nbformat_minor": 2
}
