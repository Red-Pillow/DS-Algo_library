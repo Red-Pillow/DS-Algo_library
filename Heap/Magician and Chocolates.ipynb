{
 "cells": [
  {
   "cell_type": "code",
   "execution_count": 18,
   "metadata": {},
   "outputs": [],
   "source": [
    "# Problem statement: Magician and Chocolates\n",
    "'''Given N bags, each bag contains Ai chocolates. \n",
    "There is a kid and a magician. In one unit of time, kid chooses a random bag i, eats Bi chocolates, \n",
    "then the magician fills the ith bag with floor(Bi/2) chocolates. \n",
    "Given Bi for 1 <= i <= N, find the maximum number of chocolates kid can eat in A units of time. For example,\n",
    "A = 3\n",
    "N = 2\n",
    "B = [6, 5]\n",
    "\n",
    "Return: 14\n",
    "At t = 1 kid eats 6 chocolates from bag 0, and the bag gets filled by 3 chocolates \n",
    "At t = 2 kid eats 5 chocolates from bag 1, and the bag gets filled by 2 chocolates \n",
    "At t = 3 kid eats 3 chocolates from bag 0, and the bag gets filled by 1 chocolate \n",
    "so, total number of chocolates eaten: 6 + 5 + 3 = 14 Note: Return your answer modulo 10^9+7'''"
   ]
  },
  {
   "cell_type": "code",
   "execution_count": null,
   "metadata": {},
   "outputs": [],
   "source": [
    "from heapq import heapify, heappush, heappop \n",
    "def solution(A,B):\n",
    "    modul=1000000007\n",
    "    for i in range(len(B)):  # to do max heap. using negetaive of all elements and storing back in B vector/list \n",
    "        B[i]=-B[i]           # and applying now heapifying it will store them in ascending order which same as max heapifying it.\n",
    "    heapify(B)\n",
    "    choco=0\n",
    "    popped=0\n",
    "    ans=0\n",
    "    counter=0\n",
    "        \n",
    "    while(A):\n",
    "        popped=heappop(B)\n",
    "        choco+=(abs(popped))\n",
    "        heappush(B,int(popped/2))\n",
    "        counter+=1\n",
    "        A-=1\n",
    "                    \n",
    "    ans=choco%modul\n",
    "    return ans"
   ]
  }
 ],
 "metadata": {
  "kernelspec": {
   "display_name": "Python 3",
   "language": "python",
   "name": "python3"
  },
  "language_info": {
   "codemirror_mode": {
    "name": "ipython",
    "version": 3
   },
   "file_extension": ".py",
   "mimetype": "text/x-python",
   "name": "python",
   "nbconvert_exporter": "python",
   "pygments_lexer": "ipython3",
   "version": "3.7.4"
  }
 },
 "nbformat": 4,
 "nbformat_minor": 2
}
