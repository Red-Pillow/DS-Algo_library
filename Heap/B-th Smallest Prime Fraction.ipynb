{
 "cells": [
  {
   "cell_type": "code",
   "execution_count": null,
   "metadata": {},
   "outputs": [],
   "source": [
    "# Problem_statement: B-th Smallest Prime Fraction\n",
    "'''A sorted array of integers, A contains 1, plus some number of primes. \n",
    "Then, for every p < q in the list, we consider the fraction p/q. \n",
    "What is the B-th smallest fraction considered? Return your answer as an array of integers,\n",
    "where answer[0] = p and answer[1] = q. \n",
    "\n",
    "Input Format:\n",
    "The first argument of input contains the integer array, A.\n",
    "The second argument of input contains an integer B.\n",
    "\n",
    "Output Format:\n",
    "Return an array of two integers, where answer[0] = p and answer[1] = q.\n",
    "\n",
    "Constraints:\n",
    "1 <= length(A) <= 2000\n",
    "1 <= A[i] <= 30000\n",
    "1 <= K <= length(A)*(length(A) - 1)/2\n",
    "\n",
    "Examples:\n",
    "Input 1:\n",
    "    A = [1, 2, 3, 5]\n",
    "    B = 3\n",
    "\n",
    "Output 1:\n",
    "    [2, 5]\n",
    "\n",
    "Explanation 1:\n",
    "    The fractions to be considered in sorted order are:\n",
    "        [1/5, 1/3, 2/5, 1/2, 3/5, 2/3]\n",
    "\n",
    "    The third fraction is 2/5.\n",
    "\n",
    "Input 2:\n",
    "    A = [1, 7]\n",
    "    B = 1\n",
    "\n",
    "Output 2:\n",
    "    [1, 7]\n",
    "\n",
    "Explanation 2:\n",
    "    The fractions to be considered in sorted order are:\n",
    "        [1/7]\n",
    "    \n",
    "    The first fraction is 1/7.'''"
   ]
  },
  {
   "cell_type": "code",
   "execution_count": null,
   "metadata": {},
   "outputs": [],
   "source": [
    "def solve(self, A, B):\n",
    "    from heapq import heapify, heappush, heappop\n",
    "    listo=[(A[0]*1.0/A[i],0,i) for i in range(len(A)-1,0,-1)]\n",
    "    for i in range(0,B):\n",
    "        decimal,numerator,denominator=heappop(listo)\n",
    "        if numerator+1<denominator: \n",
    "            heappush(listo,(1.0*A[numerator+1]/A[denominator],numerator+1,denominator))              \n",
    "    return [A[numerator],A[denominator]]"
   ]
  }
 ],
 "metadata": {
  "kernelspec": {
   "display_name": "Python 3",
   "language": "python",
   "name": "python3"
  },
  "language_info": {
   "codemirror_mode": {
    "name": "ipython",
    "version": 3
   },
   "file_extension": ".py",
   "mimetype": "text/x-python",
   "name": "python",
   "nbconvert_exporter": "python",
   "pygments_lexer": "ipython3",
   "version": "3.7.4"
  }
 },
 "nbformat": 4,
 "nbformat_minor": 2
}
