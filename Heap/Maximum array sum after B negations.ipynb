{
 "cells": [
  {
   "cell_type": "code",
   "execution_count": null,
   "metadata": {},
   "outputs": [],
   "source": [
    "# Maximum array sum after B negations\n",
    "'''Given an array of integers A and an integer B. \n",
    "You must modify the array exactly B number of times. \n",
    "In single modification we can replace any one array element A[i] by -A[i]. \n",
    "You need to perform these modifications in such a way \n",
    "that after exactly B modifications, sum of the array must be maximum. \n",
    "\n",
    "Input Format\n",
    "The argument given is the integer array A and an integer B.\n",
    "\n",
    "Output Format\n",
    "Return the maximum array sum after B modifications.\n",
    "\n",
    "Constraints\n",
    "1 <= length of the array <= 5*10^5\n",
    "1 <= B <= 5 * 10^6\n",
    "-100 <= A[i] <= 100\n",
    "\n",
    "For Example\n",
    "Input 1:\n",
    "    A = [24, -68, -29, -9, 84]\n",
    "    B = 4\n",
    "    \n",
    "Output 1:\n",
    "    196\n",
    "    \n",
    "Explanation 1:\n",
    "    Final array after B modifications = [24, 68, 29, -9, 84]\n",
    "\n",
    "Input 2:\n",
    "    A = [57, 3, -14, -87, 42, 38, 31, -7, -28, -61]\n",
    "    B = 10\n",
    "    \n",
    "Output 2:\n",
    "    362\n",
    "    \n",
    "Explanation 2:\n",
    "    Final array after B modifications = [57, -3, 14, 87, 42, 38, 31, 7, 28, 6]'''"
   ]
  },
  {
   "cell_type": "code",
   "execution_count": 120,
   "metadata": {},
   "outputs": [],
   "source": [
    "def solve(self, A, B):\n",
    "    from heapq import heapify, heappush, heappop \n",
    "    heapify(A)\n",
    "    temp=0\n",
    "    minus=''\n",
    "    counter=0\n",
    "    while(B):\n",
    "        popped=heappop(A)\n",
    "        heappush(A,-popped)\n",
    "        if (abs(temp)==abs(popped)) and counter>=len(A)-1:\n",
    "            if (B-1)%2==0:      # check for repeatation to avoid TLE\n",
    "                minus=''        # after the array is traversed once\n",
    "                break    \n",
    "            else:\n",
    "                minus='-'\n",
    "                break\n",
    "        temp=popped\n",
    "        counter+=1\n",
    "        B-=1\n",
    "        \n",
    "    if minus=='-':\n",
    "        A[0]=-A[0]\n",
    "    return (sum(A))"
   ]
  }
 ],
 "metadata": {
  "kernelspec": {
   "display_name": "Python 3",
   "language": "python",
   "name": "python3"
  },
  "language_info": {
   "codemirror_mode": {
    "name": "ipython",
    "version": 3
   },
   "file_extension": ".py",
   "mimetype": "text/x-python",
   "name": "python",
   "nbconvert_exporter": "python",
   "pygments_lexer": "ipython3",
   "version": "3.7.4"
  }
 },
 "nbformat": 4,
 "nbformat_minor": 2
}
