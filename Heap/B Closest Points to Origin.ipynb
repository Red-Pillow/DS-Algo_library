{
 "cells": [
  {
   "cell_type": "code",
   "execution_count": 1,
   "metadata": {},
   "outputs": [],
   "source": [
    "# B Closest Points to Origin\n",
    "'''Problem Description\n",
    "We have a list A, of points(x,y) on the plane. \n",
    "Find the B closest points to the origin (0, 0). \n",
    "Here, the distance between two points on a plane is the Euclidean distance.\n",
    "You may return the answer in any order. \n",
    "The answer is guaranteed to be unique (except for the order that it is in.) \n",
    "\n",
    "NOTE: Euclidean distance between two points:\n",
    "\n",
    "P1(x1,y1) and P2(x2,y2) is sqrt( (x1-x2)^2 + (y1-y2)^2 ). \n",
    "\n",
    "\n",
    "Problem Constraints\n",
    "1 <= B <= length of the list A <= 100000\n",
    "-100000 <= A[i][0] <= 100000\n",
    "-100000 <= A[i][1] <= 100000\n",
    "\n",
    "\n",
    "Input Format\n",
    "The argument given is list A and an integer B.\n",
    "\n",
    "\n",
    "Output Format\n",
    "Return the B closest points to the origin (0, 0) in any order.\n",
    "\n",
    "\n",
    "Example Input\n",
    "A = [ [1, 3],\n",
    "      [-2, 2]  ]\n",
    "B = 1\n",
    "\n",
    "\n",
    "Example Output\n",
    "[ [-2, 2] ]\n",
    "\n",
    "\n",
    "Example Explanation\n",
    "The Euclidean distance will be sqrt(10) for point [1,3] and sqrt(8) for point [-2,2].\n",
    "So one closest point will be [-2,2].\n",
    "'''"
   ]
  },
  {
   "cell_type": "code",
   "execution_count": null,
   "metadata": {},
   "outputs": [],
   "source": [
    "def solve(A, B):\n",
    "    import math\n",
    "    p=[]\n",
    "    for i in range(len(A)):\n",
    "        eq_distance=math.sqrt((0-A[i][0])**2+(0-A[i][1])**2)\n",
    "        pair_it=[A[i][0],A[i][1]]\n",
    "        p.append([eq_distance,pair_it])\n",
    "            \n",
    "    p=sorted(p)\n",
    "    res=[]\n",
    "    for i in range(B):\n",
    "        res.append(p[i][1])\n",
    "    return res"
   ]
  }
 ],
 "metadata": {
  "kernelspec": {
   "display_name": "Python 3",
   "language": "python",
   "name": "python3"
  },
  "language_info": {
   "codemirror_mode": {
    "name": "ipython",
    "version": 3
   },
   "file_extension": ".py",
   "mimetype": "text/x-python",
   "name": "python",
   "nbconvert_exporter": "python",
   "pygments_lexer": "ipython3",
   "version": "3.7.4"
  }
 },
 "nbformat": 4,
 "nbformat_minor": 2
}
