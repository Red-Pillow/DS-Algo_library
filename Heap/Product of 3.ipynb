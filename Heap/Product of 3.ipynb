{
 "cells": [
  {
   "cell_type": "code",
   "execution_count": null,
   "metadata": {},
   "outputs": [],
   "source": [
    "# Product of 3\n",
    "'''You are given an array A that has N integers. \n",
    "You have to find the product of the 3 largest integers in array A\n",
    "from range 1 to i, where i goes from 1 to N. Return an array\n",
    "where the integer at index i of the array is the product of the \n",
    "largest 3 integers in range 1 to i in array A. If i<3, \n",
    "then the integer at index i is -1. \n",
    "\n",
    "Input Format\n",
    "A: Array of integers\n",
    "\n",
    "Output Format\n",
    "Return an array where the integer at index i of the array\n",
    "is the product of the largest 3 integers in range 1 to i in array A. \n",
    "If i<3, then the integer at index i is -1.\n",
    "\n",
    "Constraints:\n",
    "1 <= size(A) <= 10^5\n",
    "0 <= Integers in A <= 10^3\n",
    "\n",
    "Example Input\n",
    "A: [1, 2, 3, 4, 5]\n",
    "\n",
    "Example Output\n",
    "[-1, -1, 6, 24, 60]\n",
    "\n",
    "Explanation For i=1, i<3 so ans[i] = -1. For i=2, i<3 so ans[i] = -1.\n",
    "For i=3, ans[i] = 123 = 6. For i=4, ans[i] = 432 = 24. For i=5,\n",
    "ans[i] = 543 = 60.'''"
   ]
  },
  {
   "cell_type": "code",
   "execution_count": null,
   "metadata": {},
   "outputs": [],
   "source": [
    "def solve(A):\n",
    "    from heapq import heapify, heappush, heappop\n",
    "    p=[]\n",
    "    heapify(p)\n",
    "    summ=0\n",
    "    t=[]\n",
    "    if len(A)==1:\n",
    "        return [-1]\n",
    "    elif len(A)==2:\n",
    "        return [-1,-1]\n",
    "    for i in range(len(A)):\n",
    "        heappush(p,-A[i])\n",
    "        if i>1:\n",
    "            a=heappop(p)\n",
    "            b=heappop(p)\n",
    "            c=heappop(p)\n",
    "            summ=abs(a)*abs(b)*abs(c)\n",
    "            t.append(summ)\n",
    "            heappush(p,a)\n",
    "            heappush(p,b)\n",
    "            heappush(p,c)\n",
    "                \n",
    "        if len(p)>3:\n",
    "            p=p[:-1]\n",
    "    res=[]\n",
    "    res.append(-1)\n",
    "    res.append(-1)\n",
    "    res.extend(t)\n",
    "    return res"
   ]
  }
 ],
 "metadata": {
  "kernelspec": {
   "display_name": "Python 3",
   "language": "python",
   "name": "python3"
  },
  "language_info": {
   "codemirror_mode": {
    "name": "ipython",
    "version": 3
   },
   "file_extension": ".py",
   "mimetype": "text/x-python",
   "name": "python",
   "nbconvert_exporter": "python",
   "pygments_lexer": "ipython3",
   "version": "3.7.4"
  }
 },
 "nbformat": 4,
 "nbformat_minor": 2
}
