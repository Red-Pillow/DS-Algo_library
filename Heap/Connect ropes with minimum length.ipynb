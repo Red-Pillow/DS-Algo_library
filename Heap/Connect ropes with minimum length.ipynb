{
 "cells": [
  {
   "cell_type": "code",
   "execution_count": 65,
   "metadata": {},
   "outputs": [],
   "source": [
    "# Problem_statement: Connect ropes with minimum length\n",
    "'''Given an array of integers A representing the length of ropes. \n",
    "You need to connect these ropes into one rope. The cost of connecting two ropes is equal to the sum of their lengths. \n",
    "You need to connect the ropes with minimum cost.\n",
    "\n",
    "Input-The only argument given is the integer array A.\n",
    "    Output-Return the minimum cost to connect these ropes into one rope.\n",
    "\n",
    "Constraints\n",
    "1 <= length of the array <= 100000\n",
    "1 <= A[i] <= 10^3\n",
    "\n",
    "\n",
    "Input 1:\n",
    "    A = [1, 2, 3, 4, 5]\n",
    "Output 1:\n",
    "    33\n",
    "Explanation 1:\n",
    "    1 + 2 = 3\n",
    "    3 + 3 = 6\n",
    "    4 + 5 = 9\n",
    "    6 + 9 = 15\n",
    "\n",
    "    3 + 6 + 9 + 15 = 33\n",
    "    \n",
    "\n",
    "Input 2:\n",
    "    A = [5, 17, 100, 11]\n",
    "Output 2:\n",
    "    182\n",
    "Explanation 2:\n",
    "    5 + 11 = 16\n",
    "    16 + 17 = 33\n",
    "    33 + 100 = 133\n",
    "\n",
    "    16 + 33 + 133 = 182\n",
    "'''"
   ]
  },
  {
   "cell_type": "code",
   "execution_count": 66,
   "metadata": {},
   "outputs": [],
   "source": [
    "from heapq import heapify, heappush, heappop \n",
    "\n",
    "def problem_statement(A):\n",
    "    heapify(A)\n",
    "    p=[]\n",
    "    grandsum=0\n",
    "    summ=0\n",
    "    while(A):\n",
    "        if A:              #check if anytime heap gets empty. to avoid index out of range\n",
    "            a=heappop(A)\n",
    "        if A:\n",
    "            b=heappop(A)\n",
    "            summ=a+b\n",
    "            grandsum+=summ\n",
    "            heappush(A,summ)\n",
    "    return grandsum"
   ]
  }
 ],
 "metadata": {
  "kernelspec": {
   "display_name": "Python 3",
   "language": "python",
   "name": "python3"
  },
  "language_info": {
   "codemirror_mode": {
    "name": "ipython",
    "version": 3
   },
   "file_extension": ".py",
   "mimetype": "text/x-python",
   "name": "python",
   "nbconvert_exporter": "python",
   "pygments_lexer": "ipython3",
   "version": "3.7.4"
  }
 },
 "nbformat": 4,
 "nbformat_minor": 2
}
